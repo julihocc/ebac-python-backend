{
 "cells": [
  {
   "cell_type": "markdown",
   "metadata": {},
   "source": [
    "# Ejercicio – Operadores, Conversión de Tipos y Funciones Básicas\n",
    "\n",
    "Presenta: Juliho Castillo Colmenares\n",
    "\n",
    "https://github.com/julihocc/ebac-python-backend\n",
    "\n",
    "## Instrucciones\n",
    "\n",
    "Crea un Jupyter Notebook para el ejercicio y escribe un programa pidiéndole al usuario\n",
    "que seleccione una operación (suma, resta, multiplicación, división y potencia) e\n",
    "ingrese una lista, un set y un diccionario con 5 números. Recuerda que puedes usar la\n",
    "función type para saber el tipo de entrada (lista, set, diccionario) y utilizar operadores\n",
    "para validar si la entrada tiene una estructura correcta. Posteriormente imprime los\n",
    "valores de entrada, la operación solicitada y el resultado de la operación. En caso de\n",
    "que la entrada sea inválida, muestra un mensaje especificando el usuario, por ejemplo\n",
    "“entrada inválida” o “tamaño inválido en la entrada”."
   ]
  },
  {
   "cell_type": "code",
   "execution_count": 38,
   "metadata": {},
   "outputs": [],
   "source": [
    "from functools import reduce\n",
    "\n",
    "def reducirCincoElementos(estructura, operacion):\n",
    "    tipo = type(estructura)\n",
    "    if tipo in [list, set, dict]:\n",
    "        if len(estructura) == 5:\n",
    "            if type(estructura) == dict:\n",
    "                estructura = estructura.values()\n",
    "            if operacion in [\"suma\", \"resta\", \"multiplicacion\", \"division\", \"potencia\"]:\n",
    "                if operacion == \"suma\":\n",
    "                    return reduce(lambda x, y: x + y, estructura)\n",
    "                elif operacion == \"resta\":\n",
    "                    return reduce(lambda x, y: x - y, estructura)\n",
    "                elif operacion == \"multiplicacion\":\n",
    "                    return reduce(lambda x, y: x * y, estructura)\n",
    "                elif operacion == \"division\":\n",
    "                    return reduce(lambda x, y: x / y, estructura)\n",
    "                elif operacion == \"potencia\":\n",
    "                    return reduce(lambda x, y: x ** y, estructura)\n",
    "            else: \n",
    "                raise ValueError(\"Operacion no valida\")\n",
    "        else:\n",
    "            raise ValueError(\"Longitud de la estructura no valida\")\n",
    "    else:\n",
    "        raise ValueError(\"Tipo de estructura no valida\")\n",
    "    \n",
    "    "
   ]
  },
  {
   "cell_type": "code",
   "execution_count": 39,
   "metadata": {},
   "outputs": [
    {
     "data": {
      "text/plain": [
       "15"
      ]
     },
     "execution_count": 39,
     "metadata": {},
     "output_type": "execute_result"
    }
   ],
   "source": [
    "reducirCincoElementos([1, 2, 3, 4, 5], \"suma\")"
   ]
  },
  {
   "cell_type": "code",
   "execution_count": 40,
   "metadata": {},
   "outputs": [
    {
     "data": {
      "text/plain": [
       "15"
      ]
     },
     "execution_count": 40,
     "metadata": {},
     "output_type": "execute_result"
    }
   ],
   "source": [
    "reducirCincoElementos({1,2,3,4,5}, \"suma\")"
   ]
  },
  {
   "cell_type": "code",
   "execution_count": 41,
   "metadata": {},
   "outputs": [
    {
     "data": {
      "text/plain": [
       "15"
      ]
     },
     "execution_count": 41,
     "metadata": {},
     "output_type": "execute_result"
    }
   ],
   "source": [
    "reducirCincoElementos({1:1, 2:2, 3:3, 4:4, 5:5}, \"suma\")\t"
   ]
  },
  {
   "cell_type": "code",
   "execution_count": 42,
   "metadata": {},
   "outputs": [
    {
     "name": "stdout",
     "output_type": "stream",
     "text": [
      "Tipo de estructura no valida\n"
     ]
    }
   ],
   "source": [
    "try:\n",
    "    reducirCincoElementos((1,2,3,4,5), \"suma\")\n",
    "except ValueError as e:\n",
    "    print(e)"
   ]
  },
  {
   "cell_type": "code",
   "execution_count": 43,
   "metadata": {},
   "outputs": [
    {
     "name": "stdout",
     "output_type": "stream",
     "text": [
      "Longitud de la estructura no valida\n"
     ]
    }
   ],
   "source": [
    "try:\n",
    "    reducirCincoElementos([1,2,3,4], \"suma\")\n",
    "except ValueError as e:\n",
    "    print(e)"
   ]
  },
  {
   "cell_type": "code",
   "execution_count": 44,
   "metadata": {},
   "outputs": [
    {
     "name": "stdout",
     "output_type": "stream",
     "text": [
      "Operacion no valida\n"
     ]
    }
   ],
   "source": [
    "try:\n",
    "    reducirCincoElementos([1,2,3,4,5], \"interseccion\")\n",
    "except ValueError as e:\n",
    "    print(e)"
   ]
  }
 ],
 "metadata": {
  "kernelspec": {
   "display_name": "python-backend",
   "language": "python",
   "name": "python3"
  },
  "language_info": {
   "codemirror_mode": {
    "name": "ipython",
    "version": 3
   },
   "file_extension": ".py",
   "mimetype": "text/x-python",
   "name": "python",
   "nbconvert_exporter": "python",
   "pygments_lexer": "ipython3",
   "version": "3.11.8"
  }
 },
 "nbformat": 4,
 "nbformat_minor": 2
}
