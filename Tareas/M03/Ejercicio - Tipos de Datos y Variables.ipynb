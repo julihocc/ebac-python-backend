{
 "cells": [
  {
   "cell_type": "markdown",
   "metadata": {},
   "source": [
    "# Tipos de Datos y Variables\n",
    "\n",
    "Presenta Juliho Castillo Colmenares\n",
    "\n",
    "https://github.com/julihocc/ebac-python-backend\n",
    "\n",
    "# Instrucciones\n",
    "\n",
    "Crea un Jupyter Notebook para el ejercicio y escribe un programa pidiéndole al\n",
    "usuario que seleccione una operación (suma, resta, multiplicación, división y\n",
    "potencia) y que ingrese 2 números para aplicarles esa operación. No te olvides\n",
    "que puedes usar la función input para obtener varios valores de entrada.\n",
    "Posteriormente imprime los valores de entrada, la operación solicitada y el\n",
    "resultado de la operación. Recuerda que tienes puntos extra si aceptas valores\n",
    "binarios, octales y hexadecimales como entrada."
   ]
  },
  {
   "cell_type": "code",
   "execution_count": 15,
   "metadata": {},
   "outputs": [],
   "source": [
    "import re\n",
    "\n",
    "def obtener_valor_numerico(valor):\n",
    "\n",
    "    # Detectar la base numérica utilizando expresiones regulares\n",
    "    if re.match(r\"^[+-]?[0-9]+$\", valor):\n",
    "        base = \"decimal\"\n",
    "        valor_decimal = int(valor)\n",
    "    elif re.match(r\"^[+-]?0b[01]+$\", valor):\n",
    "        base = \"binario\"\n",
    "        valor_decimal = int(valor, 2)\n",
    "    elif re.match(r\"^[+-]?0o[0-7]+$\", valor):\n",
    "        base = \"octal\"\n",
    "        valor_decimal = int(valor, 8)\n",
    "    elif re.match(r\"^[+-]?0x[0-9a-fA-F]+$\", valor):\n",
    "        base = \"hexadecimal\"\n",
    "        valor_decimal = int(valor, 16)\n",
    "    else:\n",
    "        print(\"Valor no reconocido. Asegúrate de ingresar un número válido en la base correcta.\")\n",
    "        return\n",
    "\n",
    "    return base, valor_decimal"
   ]
  },
  {
   "cell_type": "code",
   "execution_count": 16,
   "metadata": {},
   "outputs": [
    {
     "name": "stdout",
     "output_type": "stream",
     "text": [
      "El valor 0b101 en base binario es igual a 5 en base decimal.\n",
      "El valor 0o77 en base octal es igual a 63 en base decimal.\n",
      "El valor 0x2A en base hexadecimal es igual a 42 en base decimal.\n",
      "El valor 42 en base decimal es igual a 42 en base decimal.\n"
     ]
    }
   ],
   "source": [
    "for valor in [\"0b101\", \"0o77\", \"0x2A\", \"42\"]:\n",
    "    base, valor_decimal = obtener_valor_numerico(valor)\n",
    "    print(f\"El valor {valor} en base {base} es igual a {valor_decimal} en base decimal.\")"
   ]
  },
  {
   "cell_type": "code",
   "execution_count": 17,
   "metadata": {},
   "outputs": [
    {
     "name": "stdout",
     "output_type": "stream",
     "text": [
      "Selecciona una operación:\n",
      "1. Suma\n",
      "2. Resta\n",
      "3. Multiplicación\n",
      "4. División\n",
      "5. Potencia\n",
      "\n",
      "Valores de entrada:\n",
      "Primer número: 0b101 (5)\n",
      "Segundo número: 0xA (10)\n",
      "Operación seleccionada: Suma\n",
      "Resultado: 15\n"
     ]
    }
   ],
   "source": [
    "# Solicitar al usuario que seleccione una operación\n",
    "print(\"Selecciona una operación:\")\n",
    "print(\"1. Suma\")\n",
    "print(\"2. Resta\")\n",
    "print(\"3. Multiplicación\")\n",
    "print(\"4. División\")\n",
    "print(\"5. Potencia\")\n",
    "\n",
    "opcion = int(input(\"Ingresa el número correspondiente a la operación deseada: \"))\n",
    "\n",
    "# Solicitar al usuario que ingrese dos números\n",
    "val1 = input(\"Ingresa el primer número: \")\n",
    "val2 = input(\"Ingresa el segundo número: \")\n",
    "\n",
    "b1, num1 = obtener_valor_numerico(val1)\n",
    "b2, num2 = obtener_valor_numerico(val2)\n",
    "\n",
    "# Realizar la operación seleccionada\n",
    "if opcion == 1:\n",
    "    resultado = num1 + num2\n",
    "    operacion = \"Suma\"\n",
    "elif opcion == 2:\n",
    "    resultado = num1 - num2\n",
    "    operacion = \"Resta\"\n",
    "elif opcion == 3:\n",
    "    resultado = num1 * num2\n",
    "    operacion = \"Multiplicación\"\n",
    "elif opcion == 4:\n",
    "    resultado = num1 / num2\n",
    "    operacion = \"División\"\n",
    "elif opcion == 5:\n",
    "    resultado = num1 ** num2\n",
    "    operacion = \"Potencia\"\n",
    "else:\n",
    "    print(\"Opción inválida. Por favor, selecciona una operación válida.\")\n",
    "    exit()\n",
    "\n",
    "# Imprimir los valores de entrada y el resultado\n",
    "print(\"\\nValores de entrada:\")\n",
    "print(f\"Primer número: {val1} ({num1})\")\n",
    "print(f\"Segundo número: {val2} ({num2})\")\n",
    "print(f\"Operación seleccionada: {operacion}\")\n",
    "print(f\"Resultado: {resultado}\")\n"
   ]
  }
 ],
 "metadata": {
  "kernelspec": {
   "display_name": "python-backend",
   "language": "python",
   "name": "python3"
  },
  "language_info": {
   "codemirror_mode": {
    "name": "ipython",
    "version": 3
   },
   "file_extension": ".py",
   "mimetype": "text/x-python",
   "name": "python",
   "nbconvert_exporter": "python",
   "pygments_lexer": "ipython3",
   "version": "3.11.8"
  }
 },
 "nbformat": 4,
 "nbformat_minor": 2
}
