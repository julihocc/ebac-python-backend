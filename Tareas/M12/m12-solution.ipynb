{
 "cells": [
  {
   "cell_type": "markdown",
   "metadata": {},
   "source": [
    "# Funciones \n",
    "\n",
    "Presenta: Juliho Castillo Colmenares\n",
    "\n",
    "https://github.com/julihocc/ebac-python-backend\n",
    "\n",
    "## Instrucciones\n",
    "\n",
    "Visualiza qué funciones podrían ser útiles en un eCommerce, tal vez esta lista\n",
    "pueda darte algunas ideas:\n",
    "• list_items_available\n",
    "• add_to_cart\n",
    "• list_my_orders\n",
    "• get_my_account_info\n",
    "Estas son solo algunas ideas, tú puedes declarar cualquier función que\n",
    "consideres que podría ser útil en una plataforma de ecommerce\n",
    "El ejercicio consiste en que crees una función que tenga una función anidada o\n",
    "una función lambda.\n",
    "El criterio de aceptación es que la función debe emular algún comportamiento\n",
    "útil y debes proveer algunos ejemplos con parámetros donde la función se\n",
    "ejecute sin errores"
   ]
  },
  {
   "cell_type": "code",
   "execution_count": 1,
   "metadata": {},
   "outputs": [
    {
     "name": "stdout",
     "output_type": "stream",
     "text": [
      "Total sin descuento: 108.0\n",
      "Total con descuento: 97.2\n"
     ]
    }
   ],
   "source": [
    "def process_order(subtotal, tax_rate, discount_code=None):\n",
    "    \"\"\"\n",
    "    Procesa un pedido, calculando el total con impuestos y aplicando un descuento si es necesario.\n",
    "\n",
    "    :param subtotal: El subtotal del pedido antes de impuestos y descuentos.\n",
    "    :param tax_rate: La tasa de impuesto aplicable al pedido.\n",
    "    :param discount_code: (Opcional) Un código de descuento aplicable al pedido.\n",
    "    :return: El total del pedido después de aplicar impuestos y descuentos.\n",
    "    \"\"\"\n",
    "\n",
    "    # Función anidada para calcular el total con impuestos\n",
    "    def calculate_total_with_tax(subtotal, tax_rate):\n",
    "        return subtotal + (subtotal * tax_rate)\n",
    "\n",
    "    # Función lambda para aplicar descuento\n",
    "    apply_discount = lambda total, discount: total - (total * discount) if discount_code == \"DESC10\" else total\n",
    "\n",
    "    # Calcula el total con impuestos\n",
    "    total_with_tax = calculate_total_with_tax(subtotal, tax_rate)\n",
    "\n",
    "    # Aplica el descuento si es necesario\n",
    "    discount = 0.1  # 10% de descuento\n",
    "    final_total = apply_discount(total_with_tax, discount)\n",
    "\n",
    "    return final_total\n",
    "\n",
    "# Ejemplo de uso de la función\n",
    "subtotal = 100  # Subtotal del pedido\n",
    "tax_rate = 0.08  # Tasa de impuesto aplicable (8%)\n",
    "discount_code = \"DESC10\"  # Código de descuento para aplicar un 10% de descuento\n",
    "\n",
    "# Procesar un pedido sin código de descuento\n",
    "print(\"Total sin descuento:\", process_order(subtotal, tax_rate))\n",
    "\n",
    "# Procesar un pedido con código de descuento\n",
    "print(\"Total con descuento:\", process_order(subtotal, tax_rate, discount_code))\n"
   ]
  }
 ],
 "metadata": {
  "kernelspec": {
   "display_name": "python-backend",
   "language": "python",
   "name": "python3"
  },
  "language_info": {
   "codemirror_mode": {
    "name": "ipython",
    "version": 3
   },
   "file_extension": ".py",
   "mimetype": "text/x-python",
   "name": "python",
   "nbconvert_exporter": "python",
   "pygments_lexer": "ipython3",
   "version": "3.11.8"
  }
 },
 "nbformat": 4,
 "nbformat_minor": 2
}
