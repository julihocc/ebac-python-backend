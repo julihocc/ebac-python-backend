{
 "cells": [
  {
   "cell_type": "markdown",
   "metadata": {},
   "source": [
    "# Ejercicio – Tuplas\n",
    "\n",
    "Presenta: Juliho Castillo Colmenares\n",
    "\n",
    "https://github.com/julihocc/ebac-python-backend\n",
    "\n",
    "## Instrucciones\n",
    "\n",
    "Crea un Jupyter Notebook para el ejercicio y modifica este programa\n",
    "para crear un prototipo de una lista de reproducción musical, la tarea\n",
    "es que conviertas la lista del resultado en una tupla y que el resultado\n",
    "al imprimirse venga entre paréntesis (porque son tuplas)"
   ]
  },
  {
   "cell_type": "code",
   "execution_count": 7,
   "metadata": {},
   "outputs": [
    {
     "name": "stdout",
     "output_type": "stream",
     "text": [
      "Lista de Reproducción\n",
      "\n",
      "Ingresa la palabra que te gustaría\n",
      "Ejemplo: 'rock', y obtendrás un playlist de canciones o artistas que incluyan la palabra rock\n",
      "['Rock', 'Olamide']\n",
      "['Rock', 'Plies']\n",
      "['The Rock (From \"The Rock\")', 'The City of Prague Philharmonic Orchestra']\n",
      "['Rock', 'Stixx']\n",
      "['ROCK (feat. Le Juiice)', 'Lithium']\n",
      "['Rock', 'CraXkler']\n",
      "['ROCK', 'Stray Kids']\n",
      "['Rocks', 'Jerome Sandero']\n",
      "['ROCK', 'Stray Kids']\n",
      "['Rock My Body', 'R3HAB']\n",
      "['Rocky', 'Still Woozy']\n",
      "['_________ Rock ___ (2/3)', \"C'typeencostume\"]\n",
      "['I Am Rock', 'Rock']\n",
      "['Rock Your Body', 'Justin Timberlake']\n",
      "['All Summer Long', 'Kid Rock']\n",
      "['rock hudson', 'Kelly Clarkson']\n",
      "['Rock or Bust', 'AC/DC']\n",
      "['Roce', 'Mark B.']\n",
      "['Black Block', 'neumodel']\n",
      "['_________ Rock ___ (2/3)', \"C'typeencostume\"]\n",
      "['Rock U', 'VINNE']\n",
      "['Divine excuse', 'Pleymo']\n",
      "['Rock It', 'Ofenbach']\n",
      "['The Rock', 'WWE & Jim Johnston']\n",
      "['Rock the Casbah (Remastered)', 'The Clash']\n"
     ]
    }
   ],
   "source": [
    "# Código base\n",
    "\n",
    "# %pip install requests\n",
    "\n",
    "import requests\n",
    "print(\"Lista de Reproducción\\n\")\n",
    "# Referencia: https://www.deezer.com/en/channels/explore\n",
    "print(\"Ingresa la palabra que te gustaría\")\n",
    "print(\"Ejemplo: 'rock', y obtendrás un playlist de canciones o artistas que incluyan la palabra rock\")\n",
    "word_to_search = input()\n",
    "url = \"https://deezerdevs-deezer.p.rapidapi.com/search\"\n",
    "querystring = {\"q\":word_to_search}\n",
    "headers = {\n",
    "\"X-RapidAPI-Key\": \"3ed98f551fmshe4e6260228c4eadp13db17jsn8c893e1194da\",\n",
    "\"X-RapidAPI-Host\": \"deezerdevs-deezer.p.rapidapi.com\"\n",
    "}\n",
    "response = requests.request(\"GET\", url, headers=headers, params=querystring).json()\n",
    "for element in response['data']:\n",
    "    my_list = [element['title'], element['artist']['name']]\n",
    "    print(my_list)"
   ]
  },
  {
   "cell_type": "markdown",
   "metadata": {},
   "source": [
    "### Solución"
   ]
  },
  {
   "cell_type": "code",
   "execution_count": 8,
   "metadata": {},
   "outputs": [
    {
     "name": "stdout",
     "output_type": "stream",
     "text": [
      "Lista de Reproducción\n",
      "\n",
      "Ingresa la palabra que te gustaría\n",
      "Ejemplo: 'rock', y obtendrás un playlist de canciones o artistas que incluyan la palabra rock\n",
      "('Rock', 'Olamide')\n",
      "('Rock', 'Plies')\n",
      "('The Rock (From \"The Rock\")', 'The City of Prague Philharmonic Orchestra')\n",
      "('Rock', 'Stixx')\n",
      "('ROCK (feat. Le Juiice)', 'Lithium')\n",
      "('Rock', 'CraXkler')\n",
      "('ROCK', 'Stray Kids')\n",
      "('Rocks', 'Jerome Sandero')\n",
      "('ROCK', 'Stray Kids')\n",
      "('Rock My Body', 'R3HAB')\n",
      "('Rocky', 'Still Woozy')\n",
      "('_________ Rock ___ (2/3)', \"C'typeencostume\")\n",
      "('I Am Rock', 'Rock')\n",
      "('Rock Your Body', 'Justin Timberlake')\n",
      "('All Summer Long', 'Kid Rock')\n",
      "('rock hudson', 'Kelly Clarkson')\n",
      "('Rock or Bust', 'AC/DC')\n",
      "('Roce', 'Mark B.')\n",
      "('Black Block', 'neumodel')\n",
      "('_________ Rock ___ (2/3)', \"C'typeencostume\")\n",
      "('Rock U', 'VINNE')\n",
      "('Divine excuse', 'Pleymo')\n",
      "('Rock It', 'Ofenbach')\n",
      "('The Rock', 'WWE & Jim Johnston')\n",
      "('Rock the Casbah (Remastered)', 'The Clash')\n"
     ]
    }
   ],
   "source": [
    "import requests\n",
    "\n",
    "print(\"Lista de Reproducción\\n\")\n",
    "# Referencia: https://www.deezer.com/en/channels/explore\n",
    "print(\"Ingresa la palabra que te gustaría\")\n",
    "print(\"Ejemplo: 'rock', y obtendrás un playlist de canciones o artistas que incluyan la palabra rock\")\n",
    "\n",
    "word_to_search = input()\n",
    "url = \"https://deezerdevs-deezer.p.rapidapi.com/search\"\n",
    "querystring = {\"q\":word_to_search}\n",
    "headers = {\n",
    "\"X-RapidAPI-Key\": \"3ed98f551fmshe4e6260228c4eadp13db17jsn8c893e1194da\",\n",
    "\"X-RapidAPI-Host\": \"deezerdevs-deezer.p.rapidapi.com\"\n",
    "}\n",
    "\n",
    "response = requests.request(\"GET\", url, headers=headers, params=querystring).json()\n",
    "\n",
    "response_as_tuple = ((element['title'], element['artist']['name']) for element in response['data'])\n",
    "\n",
    "for element in response_as_tuple:\n",
    "    print(element)"
   ]
  }
 ],
 "metadata": {
  "kernelspec": {
   "display_name": "python-backend",
   "language": "python",
   "name": "python3"
  },
  "language_info": {
   "codemirror_mode": {
    "name": "ipython",
    "version": 3
   },
   "file_extension": ".py",
   "mimetype": "text/x-python",
   "name": "python",
   "nbconvert_exporter": "python",
   "pygments_lexer": "ipython3",
   "version": "3.11.8"
  }
 },
 "nbformat": 4,
 "nbformat_minor": 2
}
