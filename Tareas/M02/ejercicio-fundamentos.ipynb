{
 "cells": [
  {
   "cell_type": "markdown",
   "metadata": {},
   "source": [
    "# Fundamentos \n",
    "\n",
    "Presenta Juliho David Castillo Colmenares\n",
    "\n",
    "https://github.com/julihocc/ebac-python-backend\n",
    "\n",
    "## Instrucciones\n",
    "\n",
    "Crea un Jupyter Notebook para el ejercicio y escribe un programa pidiéndole\n",
    "al usuario un entero, un float y una cadena. No te olvides de añadir la función\n",
    "type para detectar el tipo de dato de cada uno de los valores. Posteriormente\n",
    "imprime los valores y el tipo de dato de cada uno usando la función print."
   ]
  },
  {
   "cell_type": "code",
   "execution_count": 1,
   "metadata": {},
   "outputs": [
    {
     "name": "stdout",
     "output_type": "stream",
     "text": [
      "El valor 1 es de tipo <class 'int'>\n",
      "El valor 1.0 es de tipo <class 'float'>\n",
      "El valor \"1\" es de tipo <class 'str'>\n"
     ]
    }
   ],
   "source": [
    "entero = int(input(\"Ingrese un número entero: \"))\n",
    "decimal = float(input(\"Ingrese un número decimal: \"))\n",
    "cadena = input(\"Ingrese una cadena de texto: \")\n",
    "\n",
    "for valor in [entero, decimal, cadena]:\n",
    "    print(f\"El valor {valor} es de tipo {type(valor)}\")"
   ]
  }
 ],
 "metadata": {
  "kernelspec": {
   "display_name": "machine_learning",
   "language": "python",
   "name": "python3"
  },
  "language_info": {
   "codemirror_mode": {
    "name": "ipython",
    "version": 3
   },
   "file_extension": ".py",
   "mimetype": "text/x-python",
   "name": "python",
   "nbconvert_exporter": "python",
   "pygments_lexer": "ipython3",
   "version": "3.11.5"
  }
 },
 "nbformat": 4,
 "nbformat_minor": 2
}
