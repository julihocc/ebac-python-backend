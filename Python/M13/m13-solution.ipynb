{
 "cells": [
  {
   "cell_type": "markdown",
   "metadata": {},
   "source": [
    "# Clases y Objetos\n",
    "\n",
    "Juliho Castillo Colmenares\n",
    "\n",
    "https://github.com/julihocc/ebac-python-backend\n",
    "\n",
    "## Instrucciones \n",
    "\n",
    "1) Visualiza qué entidades/instancias/objetos podrían ser útiles en un\n",
    "eCommerce.\n",
    "1) La idea es que declares una clase con por lo menos 3 funciones y 3 atributos.\n",
    "1) Además deberás crear una segunda clase que herede estas funciones y\n",
    "atributos y debes agregar funciones y atributos a esta clase hija\n",
    "1) Incluye un ejemplo de la instanciación de objetos de ambas clases, sus\n",
    "funciones y sus atributos"
   ]
  },
  {
   "cell_type": "code",
   "execution_count": 11,
   "metadata": {},
   "outputs": [],
   "source": [
    "class Product:\n",
    "    def __init__(self, name, price, category):\n",
    "        self.name = name\n",
    "        self.price = price\n",
    "        self.category = category\n",
    "\n",
    "    def get_info(self):\n",
    "        return f\"Product: {self.name}, Category: {self.category}, Price: ${self.price}\"\n",
    "\n",
    "    def apply_discount(self, percentage):\n",
    "        self.price *= (1 - percentage)"
   ]
  },
  {
   "cell_type": "code",
   "execution_count": 12,
   "metadata": {},
   "outputs": [],
   "source": [
    "class Cart(Product):\n",
    "    def __init__(self, owner):\n",
    "        self.products = []  # Lista de instancias de Product\n",
    "        self.owner = owner\n",
    "        self.total = 0\t\n",
    "\n",
    "    def add_product(self, product):\n",
    "        self.products.append(product)\n",
    "\n",
    "    def get_cart_total(self):\n",
    "        self.total = sum(product.price for product in self.products)\n",
    "        return self.total\n",
    "\n",
    "    def checkout(self):\n",
    "        total = self.get_cart_total()\n",
    "        print(f\"{self.owner}, your total is: ${total}. Proceeding to checkout.\")\n",
    "        self.products = []  # Vaciar el carrito después de la compra\n"
   ]
  },
  {
   "cell_type": "code",
   "execution_count": 13,
   "metadata": {},
   "outputs": [
    {
     "name": "stdout",
     "output_type": "stream",
     "text": [
      "1225\n",
      "John Doe, your total is: $1225. Proceeding to checkout.\n"
     ]
    }
   ],
   "source": [
    "# Ejemplo de instanciación y uso\n",
    "product1 = Product(\"Laptop\", 1200, \"Electronics\")\n",
    "product2 = Product(\"Mouse\", 25, \"Accessories\")\n",
    "\n",
    "cart = Cart(\"John Doe\")\n",
    "cart.add_product(product1)\n",
    "cart.add_product(product2)\n",
    "\n",
    "print(cart.get_cart_total())  # Debería mostrar el total del carrito\n",
    "cart.checkout()  # Finalizar la compra y mostrar el total"
   ]
  }
 ],
 "metadata": {
  "kernelspec": {
   "display_name": "python-backend",
   "language": "python",
   "name": "python3"
  },
  "language_info": {
   "codemirror_mode": {
    "name": "ipython",
    "version": 3
   },
   "file_extension": ".py",
   "mimetype": "text/x-python",
   "name": "python",
   "nbconvert_exporter": "python",
   "pygments_lexer": "ipython3",
   "version": "3.11.8"
  }
 },
 "nbformat": 4,
 "nbformat_minor": 2
}
