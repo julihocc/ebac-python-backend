{
 "cells": [
  {
   "cell_type": "markdown",
   "metadata": {},
   "source": [
    "# Ejercicio – Sets\n",
    "\n",
    "Presenta: Juliho Castillo Colmenares\n",
    "\n",
    "https://github.com/julihocc/ebac-python-backend\n",
    "\n",
    "## Instrucciones\n",
    "\n",
    "Crea un Jupyter Notebook para el ejercicio y modifica este programa\n",
    "para crear un generador de combinaciones. En el ejemplo se generan\n",
    "las combinaciones de 3 caracteres. El objetivo es que incluyas la letra D\n",
    "y generes las combinaciones posibles con 4 caractéres"
   ]
  },
  {
   "cell_type": "code",
   "execution_count": 88,
   "metadata": {},
   "outputs": [],
   "source": [
    "from collections import defaultdict\n",
    "\n",
    "numbers = ['0', '1', '2', '3', '4', '5', '6', '7', '8', '9']\n",
    "letters = ['A', 'B', 'C']\n",
    "\n"
   ]
  },
  {
   "cell_type": "code",
   "execution_count": 89,
   "metadata": {},
   "outputs": [
    {
     "data": {
      "text/plain": [
       "286"
      ]
     },
     "execution_count": 89,
     "metadata": {},
     "output_type": "execute_result"
    }
   ],
   "source": [
    "# Calculo de la cantidad teórica de combinaciones con todos los caracteres posibles\n",
    "\n",
    "from math import comb\n",
    "\n",
    "n = len(numbers) + len(letters)\n",
    "k = 3\n",
    "comb(n, k)"
   ]
  },
  {
   "cell_type": "code",
   "execution_count": 90,
   "metadata": {},
   "outputs": [
    {
     "name": "stdout",
     "output_type": "stream",
     "text": [
      "193\n"
     ]
    }
   ],
   "source": [
    "unique_combinations = defaultdict(set)\n",
    "\n",
    "for number in numbers:\n",
    "    for letter in letters:\n",
    "        unique_combinations['code base'].add(\"{}{}{}\".format(number,number,number))\n",
    "        unique_combinations['code base'].add(\"{}{}{}\".format(number,number,letter))\n",
    "        unique_combinations['code base'].add(\"{}{}{}\".format(number,letter,number))\n",
    "        unique_combinations['code base'].add(\"{}{}{}\".format(number,letter,letter))\n",
    "        unique_combinations['code base'].add(\"{}{}{}\".format(letter,number,number))\n",
    "        unique_combinations['code base'].add(\"{}{}{}\".format(letter,letter,number))\n",
    "        unique_combinations['code base'].add(\"{}{}{}\".format(letter,number,letter))\n",
    "        unique_combinations['code base'].add(\"{}{}{}\".format(letter,letter,letter))\n",
    "print(len(unique_combinations['code base']))"
   ]
  },
  {
   "cell_type": "markdown",
   "metadata": {},
   "source": [
    "Sin embargo, en la solución base no se calculan todas las combinaciones posibles. "
   ]
  },
  {
   "cell_type": "markdown",
   "metadata": {},
   "source": [
    "### Solución\n",
    "\n",
    "Propondremos una solución que sea comparable con la proporcionada en el código base. Posteriormente añadiremos la letra 'D', y se generarán las combinaciones de 4 caracteres. "
   ]
  },
  {
   "cell_type": "code",
   "execution_count": 91,
   "metadata": {},
   "outputs": [
    {
     "name": "stdout",
     "output_type": "stream",
     "text": [
      "AB\n",
      "BC\n",
      "AC\n"
     ]
    }
   ],
   "source": [
    "from itertools import combinations\n",
    "\n",
    "\n",
    "def generate_combinations(arr: list[str], r:int) -> list[list[str]]:\n",
    "    result = []\n",
    "    \n",
    "    def backtrack(start, comb):\n",
    "        # When the combination is complete\n",
    "        if len(comb) == r:\n",
    "            result.append(comb.copy())\n",
    "            return\n",
    "        \n",
    "        # Add each element into the combination and recurse\n",
    "        for i in range(start, len(arr)):\n",
    "            # Add the current element to the combination\n",
    "            comb.append(arr[i])\n",
    "            # Recurse with the next element\n",
    "            backtrack(i + 1, comb)\n",
    "            # Backtrack, remove the last element added\n",
    "            comb.pop()\n",
    "    \n",
    "    backtrack(0, [])\n",
    "    return result\n",
    "\n",
    "def generate_words(characters:list[str], length:int):\n",
    "    words = generate_combinations(characters, length)\n",
    "    return set([''.join(combo) for combo in words])\n",
    "\n",
    "# Example usage\n",
    "items = ['A', 'B', 'C']  # Define your set of items\n",
    "r = 2  # Number of items to choose\n",
    "\n",
    "# Generate and print all combinations\n",
    "all_combinations = generate_words(items, r)\n",
    "for combo in all_combinations:\n",
    "    print(combo)"
   ]
  },
  {
   "cell_type": "code",
   "execution_count": 92,
   "metadata": {},
   "outputs": [
    {
     "name": "stdout",
     "output_type": "stream",
     "text": [
      "286\n"
     ]
    }
   ],
   "source": [
    "#  Generamos las combinaciones con los caracteres dados en el enunciado\n",
    "\n",
    "numbers = ['0', '1', '2', '3', '4', '5', '6', '7', '8', '9']\n",
    "letters = ['A', 'B', 'C']\n",
    "characters = numbers + letters\n",
    "    \n",
    "unique_combinations['modified code'] = generate_words(characters, 3 )\n",
    "\n",
    "print(len(unique_combinations['modified code']))"
   ]
  },
  {
   "cell_type": "code",
   "execution_count": 93,
   "metadata": {},
   "outputs": [
    {
     "data": {
      "text/plain": [
       "False"
      ]
     },
     "execution_count": 93,
     "metadata": {},
     "output_type": "execute_result"
    }
   ],
   "source": [
    "unique_combinations['code base'] == unique_combinations['modified code']"
   ]
  },
  {
   "cell_type": "code",
   "execution_count": 94,
   "metadata": {},
   "outputs": [
    {
     "data": {
      "text/plain": [
       "193"
      ]
     },
     "execution_count": 94,
     "metadata": {},
     "output_type": "execute_result"
    }
   ],
   "source": [
    "len(unique_combinations['code base'] - unique_combinations['modified code'])"
   ]
  },
  {
   "cell_type": "code",
   "execution_count": 95,
   "metadata": {},
   "outputs": [
    {
     "data": {
      "text/plain": [
       "286"
      ]
     },
     "execution_count": 95,
     "metadata": {},
     "output_type": "execute_result"
    }
   ],
   "source": [
    "len(unique_combinations['modified code'] - unique_combinations['code base'])"
   ]
  },
  {
   "cell_type": "markdown",
   "metadata": {},
   "source": [
    "Como se puede obsevar, existen combinaciones en la solución propuesta que no existen en la solución proporcionado en las instrucciones. Pero todas las soluciones proporcionadas sí están en la solución propuesta. "
   ]
  },
  {
   "cell_type": "code",
   "execution_count": 96,
   "metadata": {},
   "outputs": [
    {
     "name": "stdout",
     "output_type": "stream",
     "text": [
      "03C\n",
      "False\n",
      "True\n"
     ]
    }
   ],
   "source": [
    "# Verificar si una combinación específica está en un conjunto o en el otro\n",
    "example =  (unique_combinations['modified code'] - unique_combinations['code base']).pop()\n",
    "print(example)\n",
    "print(example in unique_combinations['code base'])\n",
    "print(example in unique_combinations['modified code'])"
   ]
  },
  {
   "cell_type": "code",
   "execution_count": 97,
   "metadata": {},
   "outputs": [
    {
     "data": {
      "text/plain": [
       "364"
      ]
     },
     "execution_count": 97,
     "metadata": {},
     "output_type": "execute_result"
    }
   ],
   "source": [
    "# Cálculo teórico de la cantidad de combinaciones posibles\n",
    "\n",
    "numbers = ['0', '1', '2', '3', '4', '5', '6', '7', '8', '9']\n",
    "letters = ['A', 'B', 'C', 'D']\n",
    "\n",
    "n = len(numbers) + len(letters)\n",
    "k = 3\n",
    "\n",
    "comb(n, k)"
   ]
  },
  {
   "cell_type": "code",
   "execution_count": 98,
   "metadata": {},
   "outputs": [
    {
     "name": "stdout",
     "output_type": "stream",
     "text": [
      "364\n"
     ]
    }
   ],
   "source": [
    "#solución\n",
    "\n",
    "numbers = ['0', '1', '2', '3', '4', '5', '6', '7', '8', '9']\n",
    "letters = ['A', 'B', 'C', 'D']\n",
    "characters = numbers + letters\n",
    "\n",
    "unique_combinations['solution'] = generate_combinations(characters, 3)\n",
    "\n",
    "print(len(unique_combinations['solution']))"
   ]
  }
 ],
 "metadata": {
  "kernelspec": {
   "display_name": "python-backend",
   "language": "python",
   "name": "python3"
  },
  "language_info": {
   "codemirror_mode": {
    "name": "ipython",
    "version": 3
   },
   "file_extension": ".py",
   "mimetype": "text/x-python",
   "name": "python",
   "nbconvert_exporter": "python",
   "pygments_lexer": "ipython3",
   "version": "3.11.8"
  }
 },
 "nbformat": 4,
 "nbformat_minor": 2
}
