{
 "cells": [
  {
   "cell_type": "markdown",
   "metadata": {},
   "source": [
    "# Ejercicio – Strings / Cadenas\n",
    "\n",
    "Presenta: Juliho Castillo Colmenares\n",
    "https://github.com/julihocc/ebac-python-backend\n",
    "\n",
    "## Instrucciones \n",
    "\n",
    "Copia y pega el código del recuadro en tu Jupyter Notebook para\n",
    "realizar el ejercicio. Recuerda modificar este programa, de forma que\n",
    "sea más efectivo. Pon ejemplos para negativo, positivo y neutro.\n",
    "\n",
    "```python\n",
    "my_string_1= \"\"\"\n",
    "Este es un product muy bueno, excelente, maravilloso\n",
    "\"\"\"\n",
    "positive_words = [\"bueno\", \"excelente\", \"maravilloso\"]\n",
    "negative_words = [\"defectuoso\", \"malo\", \"horrible\"]\n",
    "score = 0\n",
    "for positive_word in positive_words:\n",
    "    score = score + my_string_1.count(positive_word)\n",
    "for negative_word in negative_words:\n",
    "    score = score - my_string_1.count(negative_word)\n",
    "if score == 0:\n",
    "    result = \"Neutro\"\n",
    "if score > 0:\n",
    "    result = \"Positivo\"\n",
    "if score < 0:\n",
    "    result = \"Negativo\"\n",
    "print(\"Analizador de sentimientos\\n\")\n",
    "print(\"my_string: {}\\nscore: {} \\nresultado: {}\".format(my_string_1, score, result))\n",
    "```"
   ]
  },
  {
   "cell_type": "code",
   "execution_count": 13,
   "metadata": {},
   "outputs": [
    {
     "name": "stdout",
     "output_type": "stream",
     "text": [
      "Analizador de sentimientos\n",
      "\n",
      "my_string: \n",
      "Este es un product muy bueno, excelente, maravilloso\n",
      "\n",
      "score: 3 \n",
      "resultado: Positivo\n"
     ]
    }
   ],
   "source": [
    "my_string_1 = \"\"\"\n",
    "Este es un product muy bueno, excelente, maravilloso\n",
    "\"\"\"\n",
    "positive_words = [\"bueno\", \"excelente\", \"maravilloso\"]\n",
    "negative_words = [\"defectuoso\", \"malo\", \"horrible\"]\n",
    "score = 0\n",
    "for positive_word in positive_words:\n",
    "    score = score + my_string_1.count(positive_word)\n",
    "for negative_word in negative_words:\n",
    "    score = score - my_string_1.count(negative_word)\n",
    "if score == 0:\n",
    "    result = \"Neutro\"\n",
    "if score > 0:\n",
    "    result = \"Positivo\"\n",
    "if score < 0:\n",
    "    result = \"Negativo\"\n",
    "print(\"Analizador de sentimientos\\n\")\n",
    "print(\"my_string: {}\\nscore: {} \\nresultado: {}\".format(my_string_1, score, result))"
   ]
  },
  {
   "cell_type": "code",
   "execution_count": 14,
   "metadata": {},
   "outputs": [],
   "source": [
    "# Ejemplos de comentarios positivos, negativos y neutros, respectivamente, sobre un producto\n",
    " \n",
    "ejemplos = [\n",
    "    \"Este es un producto muy bueno, excelente, maravilloso\",\n",
    "    \"Este es un producto defectuoso, malo, horrible\",\n",
    "    \"Este es un producto regular, ni bueno ni malo\"    \n",
    "]"
   ]
  },
  {
   "cell_type": "code",
   "execution_count": 15,
   "metadata": {},
   "outputs": [],
   "source": [
    "# Diccionario de palabras positivas, negativas y neutras\n",
    "\n",
    "palabras = {\n",
    "    \"positivas\": [\"bueno\", \"excelente\", \"maravilloso\"],\n",
    "    \"negativas\": [\"defectuoso\", \"malo\", \"horrible\"],\n",
    "    \"neutras\": [\"regular\"]\n",
    "}"
   ]
  },
  {
   "cell_type": "code",
   "execution_count": 16,
   "metadata": {},
   "outputs": [],
   "source": [
    "# Función para analizar el sentimiento de un comentario\n",
    "\n",
    "def analizar_sentimiento(comentario, palabras):\n",
    "    score = 0\n",
    "    for palabra in palabras[\"positivas\"]:\n",
    "        score += comentario.count(palabra)\n",
    "    for palabra in palabras[\"negativas\"]:\n",
    "        score -= comentario.count(palabra)\n",
    "    return score"
   ]
  },
  {
   "cell_type": "code",
   "execution_count": 17,
   "metadata": {},
   "outputs": [],
   "source": [
    "# Función para determinar el resultado del análisis\n",
    "\n",
    "def resultado_analisis(score):\n",
    "    if score == 0:\n",
    "        return \"Neutro\"\n",
    "    elif score > 0:\n",
    "        return \"Positivo\"\n",
    "    else:\n",
    "        return \"Negativo\""
   ]
  },
  {
   "cell_type": "code",
   "execution_count": 18,
   "metadata": {},
   "outputs": [
    {
     "name": "stdout",
     "output_type": "stream",
     "text": [
      "Comentario: Este es un producto muy bueno, excelente, maravilloso\n",
      "Resultado: Positivo\n",
      "\n",
      "Comentario: Este es un producto defectuoso, malo, horrible\n",
      "Resultado: Negativo\n",
      "\n",
      "Comentario: Este es un producto regular, ni bueno ni malo\n",
      "Resultado: Neutro\n",
      "\n"
     ]
    }
   ],
   "source": [
    "# Imprimir los resultados\n",
    "\n",
    "for ejemplo in ejemplos:\n",
    "    score = analizar_sentimiento(ejemplo, palabras)\n",
    "    resultado = resultado_analisis(score)\n",
    "    print(f\"Comentario: {ejemplo}\\nResultado: {resultado}\\n\")"
   ]
  }
 ],
 "metadata": {
  "kernelspec": {
   "display_name": "python-backend",
   "language": "python",
   "name": "python3"
  },
  "language_info": {
   "codemirror_mode": {
    "name": "ipython",
    "version": 3
   },
   "file_extension": ".py",
   "mimetype": "text/x-python",
   "name": "python",
   "nbconvert_exporter": "python",
   "pygments_lexer": "ipython3",
   "version": "3.11.8"
  }
 },
 "nbformat": 4,
 "nbformat_minor": 2
}
