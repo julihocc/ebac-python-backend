{
 "cells": [
  {
   "cell_type": "markdown",
   "metadata": {},
   "source": [
    "# Ejercicio – Python Comprehension, Declaraciones Condicionales y Pruebas de Afiliación\n",
    "\n",
    "Juliho Castillo Colmenares\n",
    "\n",
    "https://github.com/julihocc/ebac-python-backend\n",
    "\n",
    "## Instrucciones\n",
    "\n",
    "Retomemos el ejercicio de M7. Crea un Jupyter Notebook para el ejercicio,\n",
    "usa la variable my_list para que obtener una lista de diccionarios con las\n",
    "llaves “artista” y ”canción” y luego imprime los resultados\n",
    "Puntos extra si utilizas list comprehension\n",
    "\n"
   ]
  },
  {
   "cell_type": "code",
   "execution_count": 20,
   "metadata": {},
   "outputs": [
    {
     "name": "stdout",
     "output_type": "stream",
     "text": [
      "Lista de Reproducción\n",
      "\n",
      "Ingresa la palabra que te gustaría\n",
      "Ejemplo: 'rock', y obtendrás un playlist de canciones o artistas que incluyan la palabra rock\n",
      "[['Rock', 'Olamide'], ['Rock', 'Plies'], ['The Rock (From \"The Rock\")', 'The City of Prague Philharmonic Orchestra'], ['Rock', 'Stixx'], ['ROCK (feat. Le Juiice)', 'Lithium'], ['Rock', 'CraXkler'], ['ROCK', 'Stray Kids'], ['Rocks', 'Jerome Sandero'], ['ROCK', 'Stray Kids'], ['Rock My Body', 'R3HAB'], ['Rocky', 'Still Woozy'], ['_________ Rock ___ (2/3)', \"C'typeencostume\"], ['I Am Rock', 'Rock'], ['Rock Your Body', 'Justin Timberlake'], ['All Summer Long', 'Kid Rock'], ['rock hudson', 'Kelly Clarkson'], ['Rock or Bust', 'AC/DC'], ['Roce', 'Mark B.'], ['Black Block', 'neumodel'], ['_________ Rock ___ (2/3)', \"C'typeencostume\"], ['Rock U', 'VINNE'], ['Divine excuse', 'Pleymo'], ['Rock It', 'Ofenbach'], ['The Rock', 'WWE & Jim Johnston'], ['Rock the Casbah (Remastered)', 'The Clash']]\n"
     ]
    }
   ],
   "source": [
    "import requests\n",
    "print(\"Lista de Reproducción\\n\")\n",
    "# Referencia: https://www.deezer.com/en/channels/explore\n",
    "print(\"Ingresa la palabra que te gustaría\")\n",
    "print(\"Ejemplo: 'rock', y obtendrás un playlist de canciones o artistas que incluyan la palabra rock\")\n",
    "# word_to_search = input()\n",
    "word_to_search = \"rock\"\n",
    "url = \"https://deezerdevs-deezer.p.rapidapi.com/search\"\n",
    "querystring = {\"q\":word_to_search}\n",
    "headers = {\n",
    "\"X-RapidAPI-Key\": \"3ed98f551fmshe4e6260228c4eadp13db17jsn8c893e1194da\",\n",
    "\"X-RapidAPI-Host\": \"deezerdevs-deezer.p.rapidapi.com\"\n",
    "}\n",
    "response = requests.request(\"GET\", url, headers=headers, params=querystring).json()\n",
    "my_list = []\n",
    "for element in response['data']:\n",
    "    my_list.append([element['title'], element['artist']['name']])\n",
    "print(my_list)"
   ]
  },
  {
   "cell_type": "markdown",
   "metadata": {},
   "source": [
    "## Solución"
   ]
  },
  {
   "cell_type": "code",
   "execution_count": 21,
   "metadata": {},
   "outputs": [
    {
     "name": "stdout",
     "output_type": "stream",
     "text": [
      "Lista de Reproducción\n",
      "\n",
      "Ingresa la palabra que te gustaría\n",
      "Ejemplo: 'rock', y obtendrás un playlist de canciones o artistas que incluyan la palabra rock\n"
     ]
    },
    {
     "data": {
      "text/plain": [
       "{'id': 69962765,\n",
       " 'readable': True,\n",
       " 'title': 'Rock the Casbah (Remastered)',\n",
       " 'title_short': 'Rock the Casbah',\n",
       " 'title_version': '(Remastered)',\n",
       " 'link': 'https://www.deezer.com/track/69962765',\n",
       " 'duration': 222,\n",
       " 'rank': 755771,\n",
       " 'explicit_lyrics': False,\n",
       " 'explicit_content_lyrics': 0,\n",
       " 'explicit_content_cover': 0,\n",
       " 'preview': 'https://cdns-preview-4.dzcdn.net/stream/c-43fbd5c94fdca0ee098cda286e1b9610-2.mp3',\n",
       " 'md5_image': 'dcb57e195538467662fbce4492f89c20',\n",
       " 'artist': {'id': 2,\n",
       "  'name': 'The Clash',\n",
       "  'link': 'https://www.deezer.com/artist/2',\n",
       "  'picture': 'https://api.deezer.com/artist/2/image',\n",
       "  'picture_small': 'https://e-cdns-images.dzcdn.net/images/artist/82a5fe6ba783cf618d5394ae0b8129b9/56x56-000000-80-0-0.jpg',\n",
       "  'picture_medium': 'https://e-cdns-images.dzcdn.net/images/artist/82a5fe6ba783cf618d5394ae0b8129b9/250x250-000000-80-0-0.jpg',\n",
       "  'picture_big': 'https://e-cdns-images.dzcdn.net/images/artist/82a5fe6ba783cf618d5394ae0b8129b9/500x500-000000-80-0-0.jpg',\n",
       "  'picture_xl': 'https://e-cdns-images.dzcdn.net/images/artist/82a5fe6ba783cf618d5394ae0b8129b9/1000x1000-000000-80-0-0.jpg',\n",
       "  'tracklist': 'https://api.deezer.com/artist/2/top?limit=50',\n",
       "  'type': 'artist'},\n",
       " 'album': {'id': 6861104,\n",
       "  'title': 'Combat Rock (Remastered)',\n",
       "  'cover': 'https://api.deezer.com/album/6861104/image',\n",
       "  'cover_small': 'https://e-cdns-images.dzcdn.net/images/cover/dcb57e195538467662fbce4492f89c20/56x56-000000-80-0-0.jpg',\n",
       "  'cover_medium': 'https://e-cdns-images.dzcdn.net/images/cover/dcb57e195538467662fbce4492f89c20/250x250-000000-80-0-0.jpg',\n",
       "  'cover_big': 'https://e-cdns-images.dzcdn.net/images/cover/dcb57e195538467662fbce4492f89c20/500x500-000000-80-0-0.jpg',\n",
       "  'cover_xl': 'https://e-cdns-images.dzcdn.net/images/cover/dcb57e195538467662fbce4492f89c20/1000x1000-000000-80-0-0.jpg',\n",
       "  'md5_image': 'dcb57e195538467662fbce4492f89c20',\n",
       "  'tracklist': 'https://api.deezer.com/album/6861104/tracks',\n",
       "  'type': 'album'},\n",
       " 'type': 'track'}"
      ]
     },
     "execution_count": 21,
     "metadata": {},
     "output_type": "execute_result"
    }
   ],
   "source": [
    "import requests\n",
    "print(\"Lista de Reproducción\\n\")\n",
    "# Referencia: https://www.deezer.com/en/channels/explore\n",
    "print(\"Ingresa la palabra que te gustaría\")\n",
    "print(\"Ejemplo: 'rock', y obtendrás un playlist de canciones o artistas que incluyan la palabra rock\")\n",
    "# word_to_search = input()\n",
    "word_to_search = \"rock\"\n",
    "url = \"https://deezerdevs-deezer.p.rapidapi.com/search\"\n",
    "querystring = {\"q\":word_to_search}\n",
    "headers = {\n",
    "\"X-RapidAPI-Key\": \"3ed98f551fmshe4e6260228c4eadp13db17jsn8c893e1194da\",\n",
    "\"X-RapidAPI-Host\": \"deezerdevs-deezer.p.rapidapi.com\"\n",
    "}\n",
    "response = requests.request(\"GET\", url, headers=headers, params=querystring).json()\n",
    "response['data'][-1]"
   ]
  },
  {
   "cell_type": "code",
   "execution_count": 22,
   "metadata": {},
   "outputs": [
    {
     "data": {
      "text/plain": [
       "{'artist': 'The Clash', 'song': 'Rock the Casbah (Remastered)'}"
      ]
     },
     "execution_count": 22,
     "metadata": {},
     "output_type": "execute_result"
    }
   ],
   "source": [
    "# Solución\n",
    "output = [{'artist': element['artist']['name'], 'song': element['title']} for element in response['data']]\n",
    "output[-1]"
   ]
  },
  {
   "cell_type": "code",
   "execution_count": null,
   "metadata": {},
   "outputs": [],
   "source": []
  }
 ],
 "metadata": {
  "kernelspec": {
   "display_name": "python-backend",
   "language": "python",
   "name": "python3"
  },
  "language_info": {
   "codemirror_mode": {
    "name": "ipython",
    "version": 3
   },
   "file_extension": ".py",
   "mimetype": "text/x-python",
   "name": "python",
   "nbconvert_exporter": "python",
   "pygments_lexer": "ipython3",
   "version": "3.11.8"
  }
 },
 "nbformat": 4,
 "nbformat_minor": 2
}
