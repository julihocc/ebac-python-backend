{
 "cells": [
  {
   "cell_type": "markdown",
   "metadata": {},
   "source": [
    "# Ejercicio – Listas\n",
    "\n",
    "Presenta: Juliho Castillo Colmenares\n",
    "\n",
    "https://github.com/julihocc/ebac-python-backend\n",
    "\n",
    "## Instrucciones \n",
    "\n",
    "Crea un Jupyter Notebook para el ejercicio y modifica este programa\n",
    "para crear un prototipo de un carrito de compras, que al final haya por\n",
    "lo menos 8 productos disponible"
   ]
  },
  {
   "cell_type": "markdown",
   "metadata": {},
   "source": [
    "```python\n",
    "# Código base\n",
    "print(\"Carrito de compras\\n\")\n",
    "print(\"\"\"\n",
    "Productos Disponibles:\n",
    "1.- Pan\n",
    "2.- Jamón\n",
    "3.- Crema\n",
    "4.- Mayonesa\n",
    "5.- Lechuga\n",
    "\"\"\")\n",
    "\n",
    "print(\"Ingresa una lista con los productos en este formato: [[Cantidad,Producto]]\")\n",
    "print(\"Por ejemplo: [[1,1], [3,2]] significa 1 Pan y 3 Jamón\" )\n",
    "\n",
    "my_shopping_cart = eval(input())\n",
    "\n",
    "print(\"\\n\\nTu carrito es:\")\n",
    "if type(my_shopping_cart) == list:\n",
    "    if type(my_shopping_cart[0]) == list:\n",
    "        for element in my_shopping_cart:\n",
    "            product = \"\"\n",
    "            if element[1] == 1:\n",
    "                product = \"Pan\"\n",
    "            if element[1] == 2:\n",
    "                product = \"Jamón\"\n",
    "            if element[1] == 3:\n",
    "                product = \"Crema\"\n",
    "            if element[1] == 4:\n",
    "                product = \"Mayonesa\"\n",
    "            if element[1] == 5:\n",
    "                product = \"Lechuga\"\n",
    "            print(\"{} {}\".format(element[0], product))\n",
    "    else:\n",
    "        print(\"Formato incorrecto, debes ingresar una lista de listas\")\n",
    "else:\n",
    "    print(\"Formato incorrecto, debes ingresar una lista de listas\")\n",
    "```"
   ]
  },
  {
   "cell_type": "markdown",
   "metadata": {},
   "source": [
    "## Solución"
   ]
  },
  {
   "cell_type": "code",
   "execution_count": 1,
   "metadata": {},
   "outputs": [],
   "source": [
    "# Función para validar producto\n",
    "\n",
    "def producto_disponible(producto: str, inventario:dict, numero_requerido:int) -> bool:\n",
    "    producto = producto.strip().lower()\n",
    "    if producto in inventario and inventario[producto] >= numero_requerido:\n",
    "        return True\n",
    "    else:\n",
    "        return False"
   ]
  },
  {
   "cell_type": "code",
   "execution_count": 2,
   "metadata": {},
   "outputs": [],
   "source": [
    "# Función para añadir producto a un carrito\n",
    "\n",
    "def agregar_producto(carrito:dict, producto: str, inventario:str, numero_requerido:int) -> bool:\n",
    "    if producto_disponible(producto, inventario):\n",
    "        carrito[producto] = numero_requerido\n",
    "        inventario[producto] -= numero_requerido\n",
    "        return True\n",
    "    else:\n",
    "        return False"
   ]
  },
  {
   "cell_type": "code",
   "execution_count": 3,
   "metadata": {},
   "outputs": [],
   "source": [
    "# Función para crear un carrito de compras a partir de un pedido\n",
    "\n",
    "def crear_carrito(pedido:dict, inventario:dict) -> [dict, dict]:\n",
    "    carrito = {}\n",
    "    productos_no_disponibles = {}\n",
    "    for producto, numero_requerido in pedido.items():\n",
    "        if producto_disponible(producto, inventario, numero_requerido):\n",
    "            carrito[producto] = numero_requerido\n",
    "            inventario[producto] -= numero_requerido\n",
    "        else:\n",
    "            productos_no_disponibles[producto] = {\n",
    "                \"requerido\": numero_requerido,\n",
    "                \"disponible\": inventario.get(producto, 0)\n",
    "            }\n",
    "    return carrito, productos_no_disponibles"
   ]
  },
  {
   "cell_type": "code",
   "execution_count": 4,
   "metadata": {
    "notebookRunGroups": {
     "groupValue": ""
    }
   },
   "outputs": [],
   "source": [
    "# Inventario ficticio de una tienda de ropa\n",
    "\n",
    "inventario = {\n",
    "    \"pan\": 10,\n",
    "    \"jamón\": 5,\n",
    "    \"crema\": 2,\n",
    "    \"mayonesa\": 3,\n",
    "    \"lechuga\": 1, \n",
    "    \"tomate\": 2,\n",
    "    \"queso\": 4,\n",
    "    \"tortillas\": 20,\n",
    "    \"papas\": 15,\n",
    "    \"refresco\": 5,\n",
    "    \"leche\": 10,\n",
    "    \"cereal\": 5,\n",
    "    \"yogurt\": 5,\n",
    "}"
   ]
  },
  {
   "cell_type": "code",
   "execution_count": 5,
   "metadata": {},
   "outputs": [],
   "source": [
    "# Pedido de un cliente\n",
    "\n",
    "pedido = {\n",
    "    \"pan\": 2,\n",
    "    \"jamón\": 1,\n",
    "    \"queso\": 1,\n",
    "    \"mayonesa\": 1,\n",
    "    \"lechuga\": 2,\n",
    "    \"tomate\": 5,\n",
    "    \"tortillas\": 10,\n",
    "    \"manzanas\": 5\n",
    "}"
   ]
  },
  {
   "cell_type": "code",
   "execution_count": 6,
   "metadata": {},
   "outputs": [
    {
     "name": "stdout",
     "output_type": "stream",
     "text": [
      "Carrito de compras: {'pan': 2, 'jamón': 1, 'queso': 1, 'mayonesa': 1, 'tortillas': 10}\n",
      "Productos no disponibles: {'lechuga': {'requerido': 2, 'disponible': 1}, 'tomate': {'requerido': 5, 'disponible': 2}, 'manzanas': {'requerido': 5, 'disponible': 0}}\n"
     ]
    }
   ],
   "source": [
    "# Crear carrito de compras\n",
    "\n",
    "carrito, productos_no_disponibles = crear_carrito(pedido, inventario)\n",
    "\n",
    "print(\"Carrito de compras:\", carrito)\n",
    "print(\"Productos no disponibles:\", productos_no_disponibles)"
   ]
  }
 ],
 "metadata": {
  "kernelspec": {
   "display_name": "python-backend",
   "language": "python",
   "name": "python3"
  },
  "language_info": {
   "codemirror_mode": {
    "name": "ipython",
    "version": 3
   },
   "file_extension": ".py",
   "mimetype": "text/x-python",
   "name": "python",
   "nbconvert_exporter": "python",
   "pygments_lexer": "ipython3",
   "version": "3.11.8"
  }
 },
 "nbformat": 4,
 "nbformat_minor": 2
}
